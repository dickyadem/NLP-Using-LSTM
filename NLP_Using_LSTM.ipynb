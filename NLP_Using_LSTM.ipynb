{
  "nbformat": 4,
  "nbformat_minor": 0,
  "metadata": {
    "colab": {
      "name": "NLP Using LSTM.ipynb",
      "provenance": [],
      "include_colab_link": true
    },
    "kernelspec": {
      "name": "python3",
      "display_name": "Python 3"
    },
    "language_info": {
      "name": "python"
    }
  },
  "cells": [
    {
      "cell_type": "markdown",
      "metadata": {
        "id": "view-in-github",
        "colab_type": "text"
      },
      "source": [
        "<a href=\"https://colab.research.google.com/github/dickyadem/NLP-Using-LSTM/blob/main/NLP_Using_LSTM.ipynb\" target=\"_parent\"><img src=\"https://colab.research.google.com/assets/colab-badge.svg\" alt=\"Open In Colab\"/></a>"
      ]
    },
    {
      "cell_type": "code",
      "source": [
        "import pandas as pd\n",
        "from sklearn.model_selection import train_test_split\n",
        "from tensorflow.keras.preprocessing.text import Tokenizer\n",
        "from tensorflow.keras.preprocessing.sequence import pad_sequences\n",
        "import tensorflow as tf\n",
        "from tensorflow import keras\n",
        "import matplotlib.pyplot as plt"
      ],
      "metadata": {
        "id": "lPn1Q8cAU3ZD"
      },
      "execution_count": null,
      "outputs": []
    },
    {
      "cell_type": "code",
      "source": [
        "df = pd.read_csv('/content/all-data.csv',\n",
        "                 encoding='ISO-8859-1')"
      ],
      "metadata": {
        "id": "d3eGeMSIAYsZ"
      },
      "execution_count": null,
      "outputs": []
    },
    {
      "cell_type": "code",
      "execution_count": null,
      "metadata": {
        "id": "qXHg7SAHjKFT"
      },
      "outputs": [],
      "source": [
        "\n",
        "df= df[['According to Gran , the company has no plans to move all production to Russia , although that is where the company is growing .','neutral']]\n",
        "df.rename({'According to Gran , the company has no plans to move all production to Russia , although that is where the company is growing .':'text','neutral':'labels'},axis=1,inplace=True)\n"
      ]
    },
    {
      "cell_type": "code",
      "source": [
        "df.head()"
      ],
      "metadata": {
        "colab": {
          "base_uri": "https://localhost:8080/",
          "height": 206
        },
        "id": "GDRppawNjVW6",
        "outputId": "48adf0e4-b82c-4c4f-a9e7-d968568d82d8"
      },
      "execution_count": null,
      "outputs": [
        {
          "output_type": "execute_result",
          "data": {
            "text/plain": [
              "                                                text    labels\n",
              "0  Technopolis plans to develop in stages an area...   neutral\n",
              "1  The international electronic industry company ...  negative\n",
              "2  With the new production plant the company woul...  positive\n",
              "3  According to the company 's updated strategy f...  positive\n",
              "4  FINANCING OF ASPOCOMP 'S GROWTH Aspocomp is ag...  positive"
            ],
            "text/html": [
              "\n",
              "  <div id=\"df-0270cc61-c508-4a9c-98ac-7809c7e9ac67\">\n",
              "    <div class=\"colab-df-container\">\n",
              "      <div>\n",
              "<style scoped>\n",
              "    .dataframe tbody tr th:only-of-type {\n",
              "        vertical-align: middle;\n",
              "    }\n",
              "\n",
              "    .dataframe tbody tr th {\n",
              "        vertical-align: top;\n",
              "    }\n",
              "\n",
              "    .dataframe thead th {\n",
              "        text-align: right;\n",
              "    }\n",
              "</style>\n",
              "<table border=\"1\" class=\"dataframe\">\n",
              "  <thead>\n",
              "    <tr style=\"text-align: right;\">\n",
              "      <th></th>\n",
              "      <th>text</th>\n",
              "      <th>labels</th>\n",
              "    </tr>\n",
              "  </thead>\n",
              "  <tbody>\n",
              "    <tr>\n",
              "      <th>0</th>\n",
              "      <td>Technopolis plans to develop in stages an area...</td>\n",
              "      <td>neutral</td>\n",
              "    </tr>\n",
              "    <tr>\n",
              "      <th>1</th>\n",
              "      <td>The international electronic industry company ...</td>\n",
              "      <td>negative</td>\n",
              "    </tr>\n",
              "    <tr>\n",
              "      <th>2</th>\n",
              "      <td>With the new production plant the company woul...</td>\n",
              "      <td>positive</td>\n",
              "    </tr>\n",
              "    <tr>\n",
              "      <th>3</th>\n",
              "      <td>According to the company 's updated strategy f...</td>\n",
              "      <td>positive</td>\n",
              "    </tr>\n",
              "    <tr>\n",
              "      <th>4</th>\n",
              "      <td>FINANCING OF ASPOCOMP 'S GROWTH Aspocomp is ag...</td>\n",
              "      <td>positive</td>\n",
              "    </tr>\n",
              "  </tbody>\n",
              "</table>\n",
              "</div>\n",
              "      <button class=\"colab-df-convert\" onclick=\"convertToInteractive('df-0270cc61-c508-4a9c-98ac-7809c7e9ac67')\"\n",
              "              title=\"Convert this dataframe to an interactive table.\"\n",
              "              style=\"display:none;\">\n",
              "        \n",
              "  <svg xmlns=\"http://www.w3.org/2000/svg\" height=\"24px\"viewBox=\"0 0 24 24\"\n",
              "       width=\"24px\">\n",
              "    <path d=\"M0 0h24v24H0V0z\" fill=\"none\"/>\n",
              "    <path d=\"M18.56 5.44l.94 2.06.94-2.06 2.06-.94-2.06-.94-.94-2.06-.94 2.06-2.06.94zm-11 1L8.5 8.5l.94-2.06 2.06-.94-2.06-.94L8.5 2.5l-.94 2.06-2.06.94zm10 10l.94 2.06.94-2.06 2.06-.94-2.06-.94-.94-2.06-.94 2.06-2.06.94z\"/><path d=\"M17.41 7.96l-1.37-1.37c-.4-.4-.92-.59-1.43-.59-.52 0-1.04.2-1.43.59L10.3 9.45l-7.72 7.72c-.78.78-.78 2.05 0 2.83L4 21.41c.39.39.9.59 1.41.59.51 0 1.02-.2 1.41-.59l7.78-7.78 2.81-2.81c.8-.78.8-2.07 0-2.86zM5.41 20L4 18.59l7.72-7.72 1.47 1.35L5.41 20z\"/>\n",
              "  </svg>\n",
              "      </button>\n",
              "      \n",
              "  <style>\n",
              "    .colab-df-container {\n",
              "      display:flex;\n",
              "      flex-wrap:wrap;\n",
              "      gap: 12px;\n",
              "    }\n",
              "\n",
              "    .colab-df-convert {\n",
              "      background-color: #E8F0FE;\n",
              "      border: none;\n",
              "      border-radius: 50%;\n",
              "      cursor: pointer;\n",
              "      display: none;\n",
              "      fill: #1967D2;\n",
              "      height: 32px;\n",
              "      padding: 0 0 0 0;\n",
              "      width: 32px;\n",
              "    }\n",
              "\n",
              "    .colab-df-convert:hover {\n",
              "      background-color: #E2EBFA;\n",
              "      box-shadow: 0px 1px 2px rgba(60, 64, 67, 0.3), 0px 1px 3px 1px rgba(60, 64, 67, 0.15);\n",
              "      fill: #174EA6;\n",
              "    }\n",
              "\n",
              "    [theme=dark] .colab-df-convert {\n",
              "      background-color: #3B4455;\n",
              "      fill: #D2E3FC;\n",
              "    }\n",
              "\n",
              "    [theme=dark] .colab-df-convert:hover {\n",
              "      background-color: #434B5C;\n",
              "      box-shadow: 0px 1px 3px 1px rgba(0, 0, 0, 0.15);\n",
              "      filter: drop-shadow(0px 1px 2px rgba(0, 0, 0, 0.3));\n",
              "      fill: #FFFFFF;\n",
              "    }\n",
              "  </style>\n",
              "\n",
              "      <script>\n",
              "        const buttonEl =\n",
              "          document.querySelector('#df-0270cc61-c508-4a9c-98ac-7809c7e9ac67 button.colab-df-convert');\n",
              "        buttonEl.style.display =\n",
              "          google.colab.kernel.accessAllowed ? 'block' : 'none';\n",
              "\n",
              "        async function convertToInteractive(key) {\n",
              "          const element = document.querySelector('#df-0270cc61-c508-4a9c-98ac-7809c7e9ac67');\n",
              "          const dataTable =\n",
              "            await google.colab.kernel.invokeFunction('convertToInteractive',\n",
              "                                                     [key], {});\n",
              "          if (!dataTable) return;\n",
              "\n",
              "          const docLinkHtml = 'Like what you see? Visit the ' +\n",
              "            '<a target=\"_blank\" href=https://colab.research.google.com/notebooks/data_table.ipynb>data table notebook</a>'\n",
              "            + ' to learn more about interactive tables.';\n",
              "          element.innerHTML = '';\n",
              "          dataTable['output_type'] = 'display_data';\n",
              "          await google.colab.output.renderOutput(dataTable, element);\n",
              "          const docLink = document.createElement('div');\n",
              "          docLink.innerHTML = docLinkHtml;\n",
              "          element.appendChild(docLink);\n",
              "        }\n",
              "      </script>\n",
              "    </div>\n",
              "  </div>\n",
              "  "
            ]
          },
          "metadata": {},
          "execution_count": 4
        }
      ]
    },
    {
      "cell_type": "code",
      "source": [
        "category = pd.get_dummies(df.labels)\n",
        "df_baru = pd.concat([df, category], axis=1)\n",
        "df_baru = df_baru.drop(columns='labels')\n",
        "df_baru"
      ],
      "metadata": {
        "colab": {
          "base_uri": "https://localhost:8080/",
          "height": 424
        },
        "id": "ZGMPwuYHjVpC",
        "outputId": "2462c4c0-6191-4af4-c3f3-03ced1aec5b4"
      },
      "execution_count": null,
      "outputs": [
        {
          "output_type": "execute_result",
          "data": {
            "text/plain": [
              "                                                   text  negative  neutral  \\\n",
              "0     Technopolis plans to develop in stages an area...         0        1   \n",
              "1     The international electronic industry company ...         1        0   \n",
              "2     With the new production plant the company woul...         0        0   \n",
              "3     According to the company 's updated strategy f...         0        0   \n",
              "4     FINANCING OF ASPOCOMP 'S GROWTH Aspocomp is ag...         0        0   \n",
              "...                                                 ...       ...      ...   \n",
              "4840  LONDON MarketWatch -- Share prices ended lower...         1        0   \n",
              "4841  Rinkuskiai 's beer sales fell by 6.5 per cent ...         0        1   \n",
              "4842  Operating profit fell to EUR 35.4 mn from EUR ...         1        0   \n",
              "4843  Net sales of the Paper segment decreased to EU...         1        0   \n",
              "4844  Sales in Finland decreased by 10.5 % in Januar...         1        0   \n",
              "\n",
              "      positive  \n",
              "0            0  \n",
              "1            0  \n",
              "2            1  \n",
              "3            1  \n",
              "4            1  \n",
              "...        ...  \n",
              "4840         0  \n",
              "4841         0  \n",
              "4842         0  \n",
              "4843         0  \n",
              "4844         0  \n",
              "\n",
              "[4845 rows x 4 columns]"
            ],
            "text/html": [
              "\n",
              "  <div id=\"df-8bf6a5b3-78b3-4f14-83d9-4f106f61391c\">\n",
              "    <div class=\"colab-df-container\">\n",
              "      <div>\n",
              "<style scoped>\n",
              "    .dataframe tbody tr th:only-of-type {\n",
              "        vertical-align: middle;\n",
              "    }\n",
              "\n",
              "    .dataframe tbody tr th {\n",
              "        vertical-align: top;\n",
              "    }\n",
              "\n",
              "    .dataframe thead th {\n",
              "        text-align: right;\n",
              "    }\n",
              "</style>\n",
              "<table border=\"1\" class=\"dataframe\">\n",
              "  <thead>\n",
              "    <tr style=\"text-align: right;\">\n",
              "      <th></th>\n",
              "      <th>text</th>\n",
              "      <th>negative</th>\n",
              "      <th>neutral</th>\n",
              "      <th>positive</th>\n",
              "    </tr>\n",
              "  </thead>\n",
              "  <tbody>\n",
              "    <tr>\n",
              "      <th>0</th>\n",
              "      <td>Technopolis plans to develop in stages an area...</td>\n",
              "      <td>0</td>\n",
              "      <td>1</td>\n",
              "      <td>0</td>\n",
              "    </tr>\n",
              "    <tr>\n",
              "      <th>1</th>\n",
              "      <td>The international electronic industry company ...</td>\n",
              "      <td>1</td>\n",
              "      <td>0</td>\n",
              "      <td>0</td>\n",
              "    </tr>\n",
              "    <tr>\n",
              "      <th>2</th>\n",
              "      <td>With the new production plant the company woul...</td>\n",
              "      <td>0</td>\n",
              "      <td>0</td>\n",
              "      <td>1</td>\n",
              "    </tr>\n",
              "    <tr>\n",
              "      <th>3</th>\n",
              "      <td>According to the company 's updated strategy f...</td>\n",
              "      <td>0</td>\n",
              "      <td>0</td>\n",
              "      <td>1</td>\n",
              "    </tr>\n",
              "    <tr>\n",
              "      <th>4</th>\n",
              "      <td>FINANCING OF ASPOCOMP 'S GROWTH Aspocomp is ag...</td>\n",
              "      <td>0</td>\n",
              "      <td>0</td>\n",
              "      <td>1</td>\n",
              "    </tr>\n",
              "    <tr>\n",
              "      <th>...</th>\n",
              "      <td>...</td>\n",
              "      <td>...</td>\n",
              "      <td>...</td>\n",
              "      <td>...</td>\n",
              "    </tr>\n",
              "    <tr>\n",
              "      <th>4840</th>\n",
              "      <td>LONDON MarketWatch -- Share prices ended lower...</td>\n",
              "      <td>1</td>\n",
              "      <td>0</td>\n",
              "      <td>0</td>\n",
              "    </tr>\n",
              "    <tr>\n",
              "      <th>4841</th>\n",
              "      <td>Rinkuskiai 's beer sales fell by 6.5 per cent ...</td>\n",
              "      <td>0</td>\n",
              "      <td>1</td>\n",
              "      <td>0</td>\n",
              "    </tr>\n",
              "    <tr>\n",
              "      <th>4842</th>\n",
              "      <td>Operating profit fell to EUR 35.4 mn from EUR ...</td>\n",
              "      <td>1</td>\n",
              "      <td>0</td>\n",
              "      <td>0</td>\n",
              "    </tr>\n",
              "    <tr>\n",
              "      <th>4843</th>\n",
              "      <td>Net sales of the Paper segment decreased to EU...</td>\n",
              "      <td>1</td>\n",
              "      <td>0</td>\n",
              "      <td>0</td>\n",
              "    </tr>\n",
              "    <tr>\n",
              "      <th>4844</th>\n",
              "      <td>Sales in Finland decreased by 10.5 % in Januar...</td>\n",
              "      <td>1</td>\n",
              "      <td>0</td>\n",
              "      <td>0</td>\n",
              "    </tr>\n",
              "  </tbody>\n",
              "</table>\n",
              "<p>4845 rows × 4 columns</p>\n",
              "</div>\n",
              "      <button class=\"colab-df-convert\" onclick=\"convertToInteractive('df-8bf6a5b3-78b3-4f14-83d9-4f106f61391c')\"\n",
              "              title=\"Convert this dataframe to an interactive table.\"\n",
              "              style=\"display:none;\">\n",
              "        \n",
              "  <svg xmlns=\"http://www.w3.org/2000/svg\" height=\"24px\"viewBox=\"0 0 24 24\"\n",
              "       width=\"24px\">\n",
              "    <path d=\"M0 0h24v24H0V0z\" fill=\"none\"/>\n",
              "    <path d=\"M18.56 5.44l.94 2.06.94-2.06 2.06-.94-2.06-.94-.94-2.06-.94 2.06-2.06.94zm-11 1L8.5 8.5l.94-2.06 2.06-.94-2.06-.94L8.5 2.5l-.94 2.06-2.06.94zm10 10l.94 2.06.94-2.06 2.06-.94-2.06-.94-.94-2.06-.94 2.06-2.06.94z\"/><path d=\"M17.41 7.96l-1.37-1.37c-.4-.4-.92-.59-1.43-.59-.52 0-1.04.2-1.43.59L10.3 9.45l-7.72 7.72c-.78.78-.78 2.05 0 2.83L4 21.41c.39.39.9.59 1.41.59.51 0 1.02-.2 1.41-.59l7.78-7.78 2.81-2.81c.8-.78.8-2.07 0-2.86zM5.41 20L4 18.59l7.72-7.72 1.47 1.35L5.41 20z\"/>\n",
              "  </svg>\n",
              "      </button>\n",
              "      \n",
              "  <style>\n",
              "    .colab-df-container {\n",
              "      display:flex;\n",
              "      flex-wrap:wrap;\n",
              "      gap: 12px;\n",
              "    }\n",
              "\n",
              "    .colab-df-convert {\n",
              "      background-color: #E8F0FE;\n",
              "      border: none;\n",
              "      border-radius: 50%;\n",
              "      cursor: pointer;\n",
              "      display: none;\n",
              "      fill: #1967D2;\n",
              "      height: 32px;\n",
              "      padding: 0 0 0 0;\n",
              "      width: 32px;\n",
              "    }\n",
              "\n",
              "    .colab-df-convert:hover {\n",
              "      background-color: #E2EBFA;\n",
              "      box-shadow: 0px 1px 2px rgba(60, 64, 67, 0.3), 0px 1px 3px 1px rgba(60, 64, 67, 0.15);\n",
              "      fill: #174EA6;\n",
              "    }\n",
              "\n",
              "    [theme=dark] .colab-df-convert {\n",
              "      background-color: #3B4455;\n",
              "      fill: #D2E3FC;\n",
              "    }\n",
              "\n",
              "    [theme=dark] .colab-df-convert:hover {\n",
              "      background-color: #434B5C;\n",
              "      box-shadow: 0px 1px 3px 1px rgba(0, 0, 0, 0.15);\n",
              "      filter: drop-shadow(0px 1px 2px rgba(0, 0, 0, 0.3));\n",
              "      fill: #FFFFFF;\n",
              "    }\n",
              "  </style>\n",
              "\n",
              "      <script>\n",
              "        const buttonEl =\n",
              "          document.querySelector('#df-8bf6a5b3-78b3-4f14-83d9-4f106f61391c button.colab-df-convert');\n",
              "        buttonEl.style.display =\n",
              "          google.colab.kernel.accessAllowed ? 'block' : 'none';\n",
              "\n",
              "        async function convertToInteractive(key) {\n",
              "          const element = document.querySelector('#df-8bf6a5b3-78b3-4f14-83d9-4f106f61391c');\n",
              "          const dataTable =\n",
              "            await google.colab.kernel.invokeFunction('convertToInteractive',\n",
              "                                                     [key], {});\n",
              "          if (!dataTable) return;\n",
              "\n",
              "          const docLinkHtml = 'Like what you see? Visit the ' +\n",
              "            '<a target=\"_blank\" href=https://colab.research.google.com/notebooks/data_table.ipynb>data table notebook</a>'\n",
              "            + ' to learn more about interactive tables.';\n",
              "          element.innerHTML = '';\n",
              "          dataTable['output_type'] = 'display_data';\n",
              "          await google.colab.output.renderOutput(dataTable, element);\n",
              "          const docLink = document.createElement('div');\n",
              "          docLink.innerHTML = docLinkHtml;\n",
              "          element.appendChild(docLink);\n",
              "        }\n",
              "      </script>\n",
              "    </div>\n",
              "  </div>\n",
              "  "
            ]
          },
          "metadata": {},
          "execution_count": 5
        }
      ]
    },
    {
      "cell_type": "code",
      "source": [
        "kalimat = df_baru['text'].values\n",
        "label = df_baru[['negative',\t'neutral',\t'positive']].values"
      ],
      "metadata": {
        "id": "PZc_FoSYjVya"
      },
      "execution_count": null,
      "outputs": []
    },
    {
      "cell_type": "code",
      "source": [
        "kalimat_latih, kalimat_test, label_latih, label_test = train_test_split(kalimat, label, test_size=0.2)"
      ],
      "metadata": {
        "id": "QEumdQKWjV4w"
      },
      "execution_count": null,
      "outputs": []
    },
    {
      "cell_type": "code",
      "source": [
        "tokenizer = Tokenizer(num_words=7490, oov_token='x')\n",
        "tokenizer.fit_on_texts(kalimat_latih) \n",
        "tokenizer.fit_on_texts(kalimat_test)\n",
        " \n",
        "sekuens_latih = tokenizer.texts_to_sequences(kalimat_latih)\n",
        "sekuens_test = tokenizer.texts_to_sequences(kalimat_test)\n",
        " \n",
        "padded_latih = pad_sequences(sekuens_latih) \n",
        "padded_test = pad_sequences(sekuens_test)"
      ],
      "metadata": {
        "id": "dAI9eWotjWAe"
      },
      "execution_count": null,
      "outputs": []
    },
    {
      "cell_type": "code",
      "source": [
        "model = tf.keras.Sequential([\n",
        "    tf.keras.layers.Embedding(input_dim=75490, output_dim=16),\n",
        "    tf.keras.layers.LSTM(64),\n",
        "    tf.keras.layers.Dense(64, activation='relu'),\n",
        "    tf.keras.layers.Dropout(0.5),\n",
        "    tf.keras.layers.Dense(3, activation='softmax')\n",
        "])\n",
        "\n",
        "opt =keras.optimizers.Nadam(\n",
        "    learning_rate=0.001, beta_1=0.9, beta_2=0.999, epsilon=1e-07\n",
        ")\n",
        "model.compile(loss='categorical_crossentropy',optimizer=opt ,metrics=['accuracy'])"
      ],
      "metadata": {
        "id": "fd7KLztijWLf"
      },
      "execution_count": null,
      "outputs": []
    },
    {
      "cell_type": "code",
      "source": [
        "class myCallback(tf.keras.callbacks.Callback):\n",
        "  def on_epoch_end(self, epoch, logs={}):\n",
        "    if(logs.get('accuracy')>0.9997):\n",
        "      print(\"\\nAkurasi telah mencapai >90%!\")\n",
        "      self.model.stop_training = True\n",
        "callbacks = myCallback()"
      ],
      "metadata": {
        "id": "AnITDdp1rCt3"
      },
      "execution_count": null,
      "outputs": []
    },
    {
      "cell_type": "code",
      "source": [
        "num_epochs = 50\n",
        "history = model.fit(padded_latih, label_latih, epochs=num_epochs, \n",
        "                    validation_data=(padded_test, label_test), batch_size=64, verbose=2, callbacks=[callbacks])"
      ],
      "metadata": {
        "colab": {
          "base_uri": "https://localhost:8080/"
        },
        "id": "3WHjZfnKlYAl",
        "outputId": "421d20e8-2ae7-40d2-f50c-e2d68fcd2ebc"
      },
      "execution_count": null,
      "outputs": [
        {
          "output_type": "stream",
          "name": "stdout",
          "text": [
            "Epoch 1/50\n",
            "61/61 - 13s - loss: 0.9527 - accuracy: 0.5939 - val_loss: 0.8726 - val_accuracy: 0.5934 - 13s/epoch - 205ms/step\n",
            "Epoch 2/50\n",
            "61/61 - 7s - loss: 0.8127 - accuracy: 0.6305 - val_loss: 0.7516 - val_accuracy: 0.6770 - 7s/epoch - 113ms/step\n",
            "Epoch 3/50\n",
            "61/61 - 6s - loss: 0.6711 - accuracy: 0.7036 - val_loss: 0.7143 - val_accuracy: 0.6894 - 6s/epoch - 98ms/step\n",
            "Epoch 4/50\n",
            "61/61 - 4s - loss: 0.5314 - accuracy: 0.7681 - val_loss: 0.7327 - val_accuracy: 0.6894 - 4s/epoch - 61ms/step\n",
            "Epoch 5/50\n",
            "61/61 - 3s - loss: 0.4396 - accuracy: 0.8065 - val_loss: 0.8718 - val_accuracy: 0.6987 - 3s/epoch - 56ms/step\n",
            "Epoch 6/50\n",
            "61/61 - 3s - loss: 0.3759 - accuracy: 0.8287 - val_loss: 0.9850 - val_accuracy: 0.7069 - 3s/epoch - 57ms/step\n",
            "Epoch 7/50\n",
            "61/61 - 3s - loss: 0.3373 - accuracy: 0.8395 - val_loss: 0.9836 - val_accuracy: 0.6605 - 3s/epoch - 56ms/step\n",
            "Epoch 8/50\n",
            "61/61 - 3s - loss: 0.3041 - accuracy: 0.8542 - val_loss: 1.0770 - val_accuracy: 0.6780 - 3s/epoch - 56ms/step\n",
            "Epoch 9/50\n",
            "61/61 - 3s - loss: 0.2656 - accuracy: 0.8741 - val_loss: 1.1284 - val_accuracy: 0.7069 - 3s/epoch - 57ms/step\n",
            "Epoch 10/50\n",
            "61/61 - 3s - loss: 0.2164 - accuracy: 0.9035 - val_loss: 1.1874 - val_accuracy: 0.6687 - 3s/epoch - 56ms/step\n",
            "Epoch 11/50\n",
            "61/61 - 3s - loss: 0.2015 - accuracy: 0.9221 - val_loss: 1.1550 - val_accuracy: 0.7203 - 3s/epoch - 56ms/step\n",
            "Epoch 12/50\n",
            "61/61 - 4s - loss: 0.1344 - accuracy: 0.9590 - val_loss: 1.1937 - val_accuracy: 0.7276 - 4s/epoch - 70ms/step\n",
            "Epoch 13/50\n",
            "61/61 - 3s - loss: 0.0840 - accuracy: 0.9801 - val_loss: 1.3515 - val_accuracy: 0.7492 - 3s/epoch - 57ms/step\n",
            "Epoch 14/50\n",
            "61/61 - 3s - loss: 0.0763 - accuracy: 0.9809 - val_loss: 1.3844 - val_accuracy: 0.7534 - 3s/epoch - 56ms/step\n",
            "Epoch 15/50\n",
            "61/61 - 3s - loss: 0.0491 - accuracy: 0.9910 - val_loss: 1.6466 - val_accuracy: 0.7430 - 3s/epoch - 56ms/step\n",
            "Epoch 16/50\n",
            "61/61 - 3s - loss: 0.0450 - accuracy: 0.9868 - val_loss: 1.7726 - val_accuracy: 0.7410 - 3s/epoch - 57ms/step\n",
            "Epoch 17/50\n",
            "61/61 - 3s - loss: 0.0375 - accuracy: 0.9912 - val_loss: 1.7697 - val_accuracy: 0.7513 - 3s/epoch - 57ms/step\n",
            "Epoch 18/50\n",
            "61/61 - 3s - loss: 0.0293 - accuracy: 0.9938 - val_loss: 1.8567 - val_accuracy: 0.7441 - 3s/epoch - 57ms/step\n",
            "Epoch 19/50\n",
            "61/61 - 4s - loss: 0.0224 - accuracy: 0.9943 - val_loss: 1.9072 - val_accuracy: 0.7492 - 4s/epoch - 57ms/step\n",
            "Epoch 20/50\n",
            "61/61 - 3s - loss: 0.0275 - accuracy: 0.9946 - val_loss: 1.9724 - val_accuracy: 0.7472 - 3s/epoch - 56ms/step\n",
            "Epoch 21/50\n",
            "61/61 - 3s - loss: 0.0263 - accuracy: 0.9941 - val_loss: 1.9225 - val_accuracy: 0.7575 - 3s/epoch - 57ms/step\n",
            "Epoch 22/50\n",
            "61/61 - 3s - loss: 0.0250 - accuracy: 0.9943 - val_loss: 1.8565 - val_accuracy: 0.7554 - 3s/epoch - 56ms/step\n",
            "Epoch 23/50\n",
            "61/61 - 3s - loss: 0.0155 - accuracy: 0.9956 - val_loss: 1.8906 - val_accuracy: 0.7595 - 3s/epoch - 56ms/step\n",
            "Epoch 24/50\n",
            "61/61 - 4s - loss: 0.0128 - accuracy: 0.9977 - val_loss: 1.8198 - val_accuracy: 0.7420 - 4s/epoch - 57ms/step\n",
            "Epoch 25/50\n",
            "61/61 - 3s - loss: 0.0257 - accuracy: 0.9954 - val_loss: 2.2653 - val_accuracy: 0.7482 - 3s/epoch - 56ms/step\n",
            "Epoch 26/50\n",
            "61/61 - 3s - loss: 0.0604 - accuracy: 0.9804 - val_loss: 1.4897 - val_accuracy: 0.7564 - 3s/epoch - 56ms/step\n",
            "Epoch 27/50\n",
            "61/61 - 3s - loss: 0.0183 - accuracy: 0.9956 - val_loss: 1.6406 - val_accuracy: 0.7410 - 3s/epoch - 56ms/step\n",
            "Epoch 28/50\n",
            "61/61 - 3s - loss: 0.0153 - accuracy: 0.9964 - val_loss: 1.8760 - val_accuracy: 0.7564 - 3s/epoch - 55ms/step\n",
            "Epoch 29/50\n",
            "61/61 - 4s - loss: 0.0090 - accuracy: 0.9985 - val_loss: 2.2319 - val_accuracy: 0.7358 - 4s/epoch - 67ms/step\n",
            "Epoch 30/50\n",
            "61/61 - 4s - loss: 0.0191 - accuracy: 0.9966 - val_loss: 1.9724 - val_accuracy: 0.7492 - 4s/epoch - 68ms/step\n",
            "Epoch 31/50\n",
            "61/61 - 3s - loss: 0.0129 - accuracy: 0.9972 - val_loss: 2.0304 - val_accuracy: 0.7430 - 3s/epoch - 56ms/step\n",
            "Epoch 32/50\n",
            "61/61 - 3s - loss: 0.0067 - accuracy: 0.9985 - val_loss: 2.1616 - val_accuracy: 0.7554 - 3s/epoch - 56ms/step\n",
            "Epoch 33/50\n",
            "61/61 - 3s - loss: 0.0137 - accuracy: 0.9972 - val_loss: 2.2083 - val_accuracy: 0.7492 - 3s/epoch - 56ms/step\n",
            "Epoch 34/50\n",
            "61/61 - 3s - loss: 0.0096 - accuracy: 0.9990 - val_loss: 2.1203 - val_accuracy: 0.7441 - 3s/epoch - 56ms/step\n",
            "Epoch 35/50\n",
            "61/61 - 3s - loss: 0.0040 - accuracy: 0.9992 - val_loss: 2.2771 - val_accuracy: 0.7420 - 3s/epoch - 56ms/step\n",
            "Epoch 36/50\n",
            "61/61 - 4s - loss: 0.0043 - accuracy: 0.9987 - val_loss: 2.4467 - val_accuracy: 0.7461 - 4s/epoch - 68ms/step\n",
            "Epoch 37/50\n",
            "61/61 - 3s - loss: 0.0049 - accuracy: 0.9987 - val_loss: 2.2963 - val_accuracy: 0.7482 - 3s/epoch - 57ms/step\n",
            "Epoch 38/50\n",
            "61/61 - 3s - loss: 0.0030 - accuracy: 0.9995 - val_loss: 2.4889 - val_accuracy: 0.7554 - 3s/epoch - 57ms/step\n",
            "Epoch 39/50\n",
            "61/61 - 3s - loss: 0.0039 - accuracy: 0.9995 - val_loss: 2.4537 - val_accuracy: 0.7410 - 3s/epoch - 57ms/step\n",
            "Epoch 40/50\n",
            "61/61 - 3s - loss: 0.0033 - accuracy: 0.9990 - val_loss: 2.2960 - val_accuracy: 0.7430 - 3s/epoch - 56ms/step\n",
            "Epoch 41/50\n",
            "61/61 - 3s - loss: 0.0545 - accuracy: 0.9868 - val_loss: 1.8139 - val_accuracy: 0.7162 - 3s/epoch - 57ms/step\n",
            "Epoch 42/50\n",
            "61/61 - 3s - loss: 0.0234 - accuracy: 0.9930 - val_loss: 2.1174 - val_accuracy: 0.7286 - 3s/epoch - 56ms/step\n",
            "Epoch 43/50\n",
            "61/61 - 3s - loss: 0.0091 - accuracy: 0.9985 - val_loss: 2.1520 - val_accuracy: 0.7296 - 3s/epoch - 56ms/step\n",
            "Epoch 44/50\n",
            "61/61 - 3s - loss: 0.0078 - accuracy: 0.9985 - val_loss: 2.1405 - val_accuracy: 0.7348 - 3s/epoch - 57ms/step\n",
            "Epoch 45/50\n",
            "61/61 - 3s - loss: 0.0032 - accuracy: 0.9995 - val_loss: 2.5745 - val_accuracy: 0.7430 - 3s/epoch - 57ms/step\n",
            "Epoch 46/50\n",
            "61/61 - 3s - loss: 0.0031 - accuracy: 0.9992 - val_loss: 2.6359 - val_accuracy: 0.7399 - 3s/epoch - 56ms/step\n",
            "Epoch 47/50\n",
            "61/61 - 4s - loss: 0.0041 - accuracy: 0.9990 - val_loss: 2.6387 - val_accuracy: 0.7389 - 4s/epoch - 58ms/step\n",
            "Epoch 48/50\n",
            "\n",
            "Akurasi telah mencapai >90%!\n",
            "61/61 - 3s - loss: 0.0016 - accuracy: 0.9997 - val_loss: 2.6322 - val_accuracy: 0.7461 - 3s/epoch - 56ms/step\n"
          ]
        }
      ]
    },
    {
      "cell_type": "code",
      "source": [
        "model.evaluate(padded_latih, label_latih)"
      ],
      "metadata": {
        "colab": {
          "base_uri": "https://localhost:8080/"
        },
        "id": "Qv6pJJeZqYc3",
        "outputId": "c30f039a-5152-400e-cd17-124fc0258636"
      },
      "execution_count": null,
      "outputs": [
        {
          "output_type": "stream",
          "name": "stdout",
          "text": [
            "122/122 [==============================] - 1s 12ms/step - loss: 7.5840e-04 - accuracy: 0.9997\n"
          ]
        },
        {
          "output_type": "execute_result",
          "data": {
            "text/plain": [
              "[0.000758397625759244, 0.9997420310974121]"
            ]
          },
          "metadata": {},
          "execution_count": 16
        }
      ]
    },
    {
      "cell_type": "code",
      "source": [
        "model.evaluate(padded_test, label_test)"
      ],
      "metadata": {
        "colab": {
          "base_uri": "https://localhost:8080/"
        },
        "id": "LTEM0WgNjhIi",
        "outputId": "643abd10-669a-48a8-c749-a5b6962faef8"
      },
      "execution_count": null,
      "outputs": [
        {
          "output_type": "stream",
          "name": "stdout",
          "text": [
            "31/31 [==============================] - 0s 10ms/step - loss: 2.6322 - accuracy: 0.7461\n"
          ]
        },
        {
          "output_type": "execute_result",
          "data": {
            "text/plain": [
              "[2.6322379112243652, 0.7461300492286682]"
            ]
          },
          "metadata": {},
          "execution_count": 18
        }
      ]
    },
    {
      "cell_type": "code",
      "source": [
        "plt.plot(history.history['accuracy'])\n",
        "plt.plot(history.history['val_accuracy'])\n",
        "plt.title('Akurasi Model')\n",
        "plt.ylabel('accuracy')\n",
        "plt.xlabel('epoch')\n",
        "plt.legend(['train', 'test'], loc='upper left')\n",
        "plt.show()"
      ],
      "metadata": {
        "colab": {
          "base_uri": "https://localhost:8080/",
          "height": 295
        },
        "id": "XzoTqDz2r7Uo",
        "outputId": "da26baf8-35e8-4df0-f9f0-441afbc1f593"
      },
      "execution_count": null,
      "outputs": [
        {
          "output_type": "display_data",
          "data": {
            "text/plain": [
              "<Figure size 432x288 with 1 Axes>"
            ],
            "image/png": "[encoded data removed]"
          },
          "metadata": {
            "needs_background": "light"
          }
        }
      ]
    },
    {
      "cell_type": "code",
      "source": [
        "plt.plot(history.history['loss'])\n",
        "plt.plot(history.history['val_loss'])\n",
        "plt.title('Loss Model')\n",
        "plt.ylabel('loss')\n",
        "plt.xlabel('epoch')\n",
        "plt.legend(['train', 'test'], loc='upper left')\n",
        "plt.show()"
      ],
      "metadata": {
        "colab": {
          "base_uri": "https://localhost:8080/",
          "height": 295
        },
        "id": "S7bSX8f8r7jQ",
        "outputId": "1054fb8b-9979-45f0-c45a-51cfc61108ec"
      },
      "execution_count": null,
      "outputs": [
        {
          "output_type": "display_data",
          "data": {
            "text/plain": [
              "<Figure size 432x288 with 1 Axes>"
            ],
            "image/png": "[encoded data removed]"
          },
          "metadata": {
            "needs_background": "light"
          }
        }
      ]
    }
  ]
}